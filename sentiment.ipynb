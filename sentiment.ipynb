{
 "cells": [
  {
   "cell_type": "markdown",
   "id": "b5be1f06",
   "metadata": {},
   "source": [
    "# TEXT EMOTION DETECTION"
   ]
  },
  {
   "cell_type": "code",
   "execution_count": 2,
   "id": "a2ae0a59",
   "metadata": {},
   "outputs": [],
   "source": [
    "from datasets import load_dataset\n",
    "import pandas as pd\n",
    "import pandas as pd\n",
    "import numpy as np\n",
    "import seaborn as sns"
   ]
  },
  {
   "cell_type": "code",
   "execution_count": 3,
   "id": "ca8dd465",
   "metadata": {},
   "outputs": [
    {
     "name": "stderr",
     "output_type": "stream",
     "text": [
      "C:\\Users\\modim\\AppData\\Roaming\\Python\\Python312\\site-packages\\huggingface_hub\\file_download.py:144: UserWarning: `huggingface_hub` cache-system uses symlinks by default to efficiently store duplicated files but your machine does not support them in C:\\Users\\modim\\.cache\\huggingface\\hub\\datasets--dair-ai--emotion. Caching files will still work but in a degraded version that might require more space on your disk. This warning can be disabled by setting the `HF_HUB_DISABLE_SYMLINKS_WARNING` environment variable. For more details, see https://huggingface.co/docs/huggingface_hub/how-to-cache#limitations.\n",
      "To support symlinks on Windows, you either need to activate Developer Mode or to run Python as an administrator. In order to activate developer mode, see this article: https://docs.microsoft.com/en-us/windows/apps/get-started/enable-your-device-for-development\n",
      "  warnings.warn(message)\n",
      "Generating train split: 100%|██████████| 16000/16000 [00:00<00:00, 305707.29 examples/s]\n",
      "Generating validation split: 100%|██████████| 2000/2000 [00:00<00:00, 459549.03 examples/s]\n",
      "Generating test split: 100%|██████████| 2000/2000 [00:00<00:00, 333423.74 examples/s]\n"
     ]
    }
   ],
   "source": [
    "# Load from Hugging Face\n",
    "dataset = load_dataset(\"dair-ai/emotion\")\n",
    "\n",
    "# Convert to pandas DataFrame\n",
    "df_train = pd.DataFrame(dataset['train'])\n",
    "df_test = pd.DataFrame(dataset['test'])\n",
    "\n",
    "# Combine train and test for full dataset\n",
    "df = pd.concat([df_train, df_test], ignore_index=True)"
   ]
  },
  {
   "cell_type": "code",
   "execution_count": 4,
   "id": "5edffd65",
   "metadata": {},
   "outputs": [
    {
     "data": {
      "text/html": [
       "<div>\n",
       "<style scoped>\n",
       "    .dataframe tbody tr th:only-of-type {\n",
       "        vertical-align: middle;\n",
       "    }\n",
       "\n",
       "    .dataframe tbody tr th {\n",
       "        vertical-align: top;\n",
       "    }\n",
       "\n",
       "    .dataframe thead th {\n",
       "        text-align: right;\n",
       "    }\n",
       "</style>\n",
       "<table border=\"1\" class=\"dataframe\">\n",
       "  <thead>\n",
       "    <tr style=\"text-align: right;\">\n",
       "      <th></th>\n",
       "      <th>text</th>\n",
       "      <th>label</th>\n",
       "    </tr>\n",
       "  </thead>\n",
       "  <tbody>\n",
       "    <tr>\n",
       "      <th>0</th>\n",
       "      <td>i didnt feel humiliated</td>\n",
       "      <td>0</td>\n",
       "    </tr>\n",
       "    <tr>\n",
       "      <th>1</th>\n",
       "      <td>i can go from feeling so hopeless to so damned...</td>\n",
       "      <td>0</td>\n",
       "    </tr>\n",
       "    <tr>\n",
       "      <th>2</th>\n",
       "      <td>im grabbing a minute to post i feel greedy wrong</td>\n",
       "      <td>3</td>\n",
       "    </tr>\n",
       "    <tr>\n",
       "      <th>3</th>\n",
       "      <td>i am ever feeling nostalgic about the fireplac...</td>\n",
       "      <td>2</td>\n",
       "    </tr>\n",
       "    <tr>\n",
       "      <th>4</th>\n",
       "      <td>i am feeling grouchy</td>\n",
       "      <td>3</td>\n",
       "    </tr>\n",
       "  </tbody>\n",
       "</table>\n",
       "</div>"
      ],
      "text/plain": [
       "                                                text  label\n",
       "0                            i didnt feel humiliated      0\n",
       "1  i can go from feeling so hopeless to so damned...      0\n",
       "2   im grabbing a minute to post i feel greedy wrong      3\n",
       "3  i am ever feeling nostalgic about the fireplac...      2\n",
       "4                               i am feeling grouchy      3"
      ]
     },
     "execution_count": 4,
     "metadata": {},
     "output_type": "execute_result"
    }
   ],
   "source": [
    "df.head()"
   ]
  },
  {
   "cell_type": "code",
   "execution_count": 7,
   "id": "03e548eb",
   "metadata": {},
   "outputs": [
    {
     "data": {
      "text/plain": [
       "label\n",
       "1    6057\n",
       "0    5247\n",
       "3    2434\n",
       "4    2161\n",
       "2    1463\n",
       "5     638\n",
       "Name: count, dtype: int64"
      ]
     },
     "execution_count": 7,
     "metadata": {},
     "output_type": "execute_result"
    }
   ],
   "source": [
    "df['label'].value_counts()"
   ]
  },
  {
   "cell_type": "code",
   "execution_count": 13,
   "id": "01760ef8",
   "metadata": {},
   "outputs": [
    {
     "data": {
      "text/plain": [
       "<Axes: xlabel='emotion', ylabel='count'>"
      ]
     },
     "execution_count": 13,
     "metadata": {},
     "output_type": "execute_result"
    },
    {
     "data": {
      "image/png": "[encoded data removed]",
      "text/plain": [
       "<Figure size 640x480 with 1 Axes>"
      ]
     },
     "metadata": {},
     "output_type": "display_data"
    }
   ],
   "source": [
    "label_names = dataset['train'].features['label'].names\n",
    "df['emotion'] = df['label'].apply(lambda x: label_names[x])\n",
    "\n",
    "sns.countplot(x='emotion', data=df)\n",
    "label_names = dataset['train'].features['label'].names\n",
    "df['emotion'] = df['label'].apply(lambda x: label_names[x])\n",
    "\n",
    "sns.countplot(x='emotion', data=df)\n"
   ]
  },
  {
   "cell_type": "markdown",
   "id": "945b5a0e",
   "metadata": {},
   "source": [
    "## Data Pre-processing"
   ]
  },
  {
   "cell_type": "code",
   "execution_count": 14,
   "id": "85be01dc",
   "metadata": {},
   "outputs": [],
   "source": [
    "import neattext.functions as nfx\n",
    "\n",
    "#Remove the user handles\n",
    "df['Clean_text'] = df['text'].apply(nfx.remove_userhandles)"
   ]
  },
  {
   "cell_type": "code",
   "execution_count": 15,
   "id": "4960d978",
   "metadata": {},
   "outputs": [
    {
     "data": {
      "text/plain": [
       "['BTC_ADDRESS_REGEX',\n",
       " 'CURRENCY_REGEX',\n",
       " 'CURRENCY_SYMB_REGEX',\n",
       " 'Counter',\n",
       " 'DATE_REGEX',\n",
       " 'EMAIL_REGEX',\n",
       " 'EMOJI_REGEX',\n",
       " 'HASTAG_REGEX',\n",
       " 'MASTERCard_REGEX',\n",
       " 'MD5_SHA_REGEX',\n",
       " 'MOST_COMMON_PUNCT_REGEX',\n",
       " 'NUMBERS_REGEX',\n",
       " 'PHONE_REGEX',\n",
       " 'PoBOX_REGEX',\n",
       " 'SPECIAL_CHARACTERS_REGEX',\n",
       " 'STOPWORDS',\n",
       " 'STOPWORDS_de',\n",
       " 'STOPWORDS_en',\n",
       " 'STOPWORDS_es',\n",
       " 'STOPWORDS_fr',\n",
       " 'STOPWORDS_ru',\n",
       " 'STOPWORDS_yo',\n",
       " 'STREET_ADDRESS_REGEX',\n",
       " 'TextFrame',\n",
       " 'URL_PATTERN',\n",
       " 'USER_HANDLES_REGEX',\n",
       " 'VISACard_REGEX',\n",
       " '__builtins__',\n",
       " '__cached__',\n",
       " '__doc__',\n",
       " '__file__',\n",
       " '__generate_text',\n",
       " '__loader__',\n",
       " '__name__',\n",
       " '__numbers_dict',\n",
       " '__package__',\n",
       " '__spec__',\n",
       " '_lex_richness_herdan',\n",
       " '_lex_richness_maas_ttr',\n",
       " 'clean_text',\n",
       " 'defaultdict',\n",
       " 'digit2words',\n",
       " 'extract_btc_address',\n",
       " 'extract_currencies',\n",
       " 'extract_currency_symbols',\n",
       " 'extract_dates',\n",
       " 'extract_emails',\n",
       " 'extract_emojis',\n",
       " 'extract_hashtags',\n",
       " 'extract_html_tags',\n",
       " 'extract_mastercard_addr',\n",
       " 'extract_md5sha',\n",
       " 'extract_numbers',\n",
       " 'extract_pattern',\n",
       " 'extract_phone_numbers',\n",
       " 'extract_postoffice_box',\n",
       " 'extract_shortwords',\n",
       " 'extract_special_characters',\n",
       " 'extract_stopwords',\n",
       " 'extract_street_address',\n",
       " 'extract_terms_in_bracket',\n",
       " 'extract_urls',\n",
       " 'extract_userhandles',\n",
       " 'extract_visacard_addr',\n",
       " 'fix_contractions',\n",
       " 'generate_sentence',\n",
       " 'hamming_distance',\n",
       " 'inverse_df',\n",
       " 'lexical_richness',\n",
       " 'markov_chain',\n",
       " 'math',\n",
       " 'nlargest',\n",
       " 'normalize',\n",
       " 'num2words',\n",
       " 'random',\n",
       " 're',\n",
       " 'read_txt',\n",
       " 'remove_accents',\n",
       " 'remove_bad_quotes',\n",
       " 'remove_btc_address',\n",
       " 'remove_currencies',\n",
       " 'remove_currency_symbols',\n",
       " 'remove_custom_pattern',\n",
       " 'remove_custom_words',\n",
       " 'remove_dates',\n",
       " 'remove_emails',\n",
       " 'remove_emojis',\n",
       " 'remove_hashtags',\n",
       " 'remove_html_tags',\n",
       " 'remove_mastercard_addr',\n",
       " 'remove_md5sha',\n",
       " 'remove_multiple_spaces',\n",
       " 'remove_non_ascii',\n",
       " 'remove_numbers',\n",
       " 'remove_phone_numbers',\n",
       " 'remove_postoffice_box',\n",
       " 'remove_puncts',\n",
       " 'remove_punctuations',\n",
       " 'remove_shortwords',\n",
       " 'remove_special_characters',\n",
       " 'remove_stopwords',\n",
       " 'remove_street_address',\n",
       " 'remove_terms_in_bracket',\n",
       " 'remove_urls',\n",
       " 'remove_userhandles',\n",
       " 'remove_visacard_addr',\n",
       " 'replace_bad_quotes',\n",
       " 'replace_currencies',\n",
       " 'replace_currency_symbols',\n",
       " 'replace_dates',\n",
       " 'replace_emails',\n",
       " 'replace_emojis',\n",
       " 'replace_numbers',\n",
       " 'replace_phone_numbers',\n",
       " 'replace_special_characters',\n",
       " 'replace_term',\n",
       " 'replace_urls',\n",
       " 'string',\n",
       " 'term_freq',\n",
       " 'to_txt',\n",
       " 'unicodedata',\n",
       " 'word_freq',\n",
       " 'word_length_freq']"
      ]
     },
     "execution_count": 15,
     "metadata": {},
     "output_type": "execute_result"
    }
   ],
   "source": [
    "dir(nfx)"
   ]
  },
  {
   "cell_type": "code",
   "execution_count": 16,
   "id": "fcb87a29",
   "metadata": {},
   "outputs": [],
   "source": [
    "#Remove the stopwords\n",
    "df['Clean_text'] = df['Clean_text'].apply(nfx.remove_stopwords)"
   ]
  },
  {
   "cell_type": "code",
   "execution_count": 17,
   "id": "946b8e73",
   "metadata": {},
   "outputs": [
    {
     "data": {
      "text/html": [
       "<div>\n",
       "<style scoped>\n",
       "    .dataframe tbody tr th:only-of-type {\n",
       "        vertical-align: middle;\n",
       "    }\n",
       "\n",
       "    .dataframe tbody tr th {\n",
       "        vertical-align: top;\n",
       "    }\n",
       "\n",
       "    .dataframe thead th {\n",
       "        text-align: right;\n",
       "    }\n",
       "</style>\n",
       "<table border=\"1\" class=\"dataframe\">\n",
       "  <thead>\n",
       "    <tr style=\"text-align: right;\">\n",
       "      <th></th>\n",
       "      <th>text</th>\n",
       "      <th>label</th>\n",
       "      <th>Clean_text</th>\n",
       "      <th>emotion</th>\n",
       "    </tr>\n",
       "  </thead>\n",
       "  <tbody>\n",
       "    <tr>\n",
       "      <th>0</th>\n",
       "      <td>i didnt feel humiliated</td>\n",
       "      <td>0</td>\n",
       "      <td>didnt feel humiliated</td>\n",
       "      <td>sadness</td>\n",
       "    </tr>\n",
       "    <tr>\n",
       "      <th>1</th>\n",
       "      <td>i can go from feeling so hopeless to so damned...</td>\n",
       "      <td>0</td>\n",
       "      <td>feeling hopeless damned hopeful cares awake</td>\n",
       "      <td>sadness</td>\n",
       "    </tr>\n",
       "    <tr>\n",
       "      <th>2</th>\n",
       "      <td>im grabbing a minute to post i feel greedy wrong</td>\n",
       "      <td>3</td>\n",
       "      <td>im grabbing minute post feel greedy wrong</td>\n",
       "      <td>anger</td>\n",
       "    </tr>\n",
       "    <tr>\n",
       "      <th>3</th>\n",
       "      <td>i am ever feeling nostalgic about the fireplac...</td>\n",
       "      <td>2</td>\n",
       "      <td>feeling nostalgic fireplace know property</td>\n",
       "      <td>love</td>\n",
       "    </tr>\n",
       "    <tr>\n",
       "      <th>4</th>\n",
       "      <td>i am feeling grouchy</td>\n",
       "      <td>3</td>\n",
       "      <td>feeling grouchy</td>\n",
       "      <td>anger</td>\n",
       "    </tr>\n",
       "    <tr>\n",
       "      <th>...</th>\n",
       "      <td>...</td>\n",
       "      <td>...</td>\n",
       "      <td>...</td>\n",
       "      <td>...</td>\n",
       "    </tr>\n",
       "    <tr>\n",
       "      <th>17995</th>\n",
       "      <td>i just keep feeling like someone is being unki...</td>\n",
       "      <td>3</td>\n",
       "      <td>feeling like unkind wrong think people close</td>\n",
       "      <td>anger</td>\n",
       "    </tr>\n",
       "    <tr>\n",
       "      <th>17996</th>\n",
       "      <td>im feeling a little cranky negative after this...</td>\n",
       "      <td>3</td>\n",
       "      <td>im feeling little cranky negative doctors appo...</td>\n",
       "      <td>anger</td>\n",
       "    </tr>\n",
       "    <tr>\n",
       "      <th>17997</th>\n",
       "      <td>i feel that i am useful to my people and that ...</td>\n",
       "      <td>1</td>\n",
       "      <td>feel useful people gives great feeling achieve...</td>\n",
       "      <td>joy</td>\n",
       "    </tr>\n",
       "    <tr>\n",
       "      <th>17998</th>\n",
       "      <td>im feeling more comfortable with derby i feel ...</td>\n",
       "      <td>1</td>\n",
       "      <td>im feeling comfortable derby feel start step s...</td>\n",
       "      <td>joy</td>\n",
       "    </tr>\n",
       "    <tr>\n",
       "      <th>17999</th>\n",
       "      <td>i feel all weird when i have to meet w people ...</td>\n",
       "      <td>4</td>\n",
       "      <td>feel weird meet w people text like dont talk f...</td>\n",
       "      <td>fear</td>\n",
       "    </tr>\n",
       "  </tbody>\n",
       "</table>\n",
       "<p>18000 rows × 4 columns</p>\n",
       "</div>"
      ],
      "text/plain": [
       "                                                    text  label  \\\n",
       "0                                i didnt feel humiliated      0   \n",
       "1      i can go from feeling so hopeless to so damned...      0   \n",
       "2       im grabbing a minute to post i feel greedy wrong      3   \n",
       "3      i am ever feeling nostalgic about the fireplac...      2   \n",
       "4                                   i am feeling grouchy      3   \n",
       "...                                                  ...    ...   \n",
       "17995  i just keep feeling like someone is being unki...      3   \n",
       "17996  im feeling a little cranky negative after this...      3   \n",
       "17997  i feel that i am useful to my people and that ...      1   \n",
       "17998  im feeling more comfortable with derby i feel ...      1   \n",
       "17999  i feel all weird when i have to meet w people ...      4   \n",
       "\n",
       "                                              Clean_text  emotion  \n",
       "0                                  didnt feel humiliated  sadness  \n",
       "1            feeling hopeless damned hopeful cares awake  sadness  \n",
       "2              im grabbing minute post feel greedy wrong    anger  \n",
       "3              feeling nostalgic fireplace know property     love  \n",
       "4                                        feeling grouchy    anger  \n",
       "...                                                  ...      ...  \n",
       "17995       feeling like unkind wrong think people close    anger  \n",
       "17996  im feeling little cranky negative doctors appo...    anger  \n",
       "17997  feel useful people gives great feeling achieve...      joy  \n",
       "17998  im feeling comfortable derby feel start step s...      joy  \n",
       "17999  feel weird meet w people text like dont talk f...     fear  \n",
       "\n",
       "[18000 rows x 4 columns]"
      ]
     },
     "execution_count": 17,
     "metadata": {},
     "output_type": "execute_result"
    }
   ],
   "source": [
    "df"
   ]
  },
  {
   "cell_type": "markdown",
   "id": "f535cc41",
   "metadata": {},
   "source": [
    "### Splitting the data into input variables and target variable"
   ]
  },
  {
   "cell_type": "code",
   "execution_count": 18,
   "id": "5dbc41a1",
   "metadata": {},
   "outputs": [],
   "source": [
    "x = df['Clean_text']\n",
    "y = df['emotion']"
   ]
  },
  {
   "cell_type": "markdown",
   "id": "b8ca11ba",
   "metadata": {},
   "source": [
    "### Splitting the data into train and test set"
   ]
  },
  {
   "cell_type": "code",
   "execution_count": 19,
   "id": "a993bc88",
   "metadata": {},
   "outputs": [],
   "source": [
    "from sklearn.model_selection import train_test_split\n",
    "\n",
    "x_train,x_test,y_train,y_test = train_test_split(x,y,test_size=0.3,random_state=42)"
   ]
  },
  {
   "cell_type": "markdown",
   "id": "4af2a346",
   "metadata": {},
   "source": [
    "### Training the model"
   ]
  },
  {
   "cell_type": "code",
   "execution_count": 20,
   "id": "c3ffd085",
   "metadata": {},
   "outputs": [],
   "source": [
    "from sklearn.pipeline import Pipeline\n",
    "from sklearn.feature_extraction.text import CountVectorizer\n",
    "from sklearn.svm import SVC\n",
    "from sklearn.ensemble import RandomForestClassifier\n",
    "from sklearn.linear_model import LogisticRegression"
   ]
  },
  {
   "cell_type": "code",
   "execution_count": 21,
   "id": "7b410e27",
   "metadata": {},
   "outputs": [
    {
     "data": {
      "text/plain": [
       "0.8853703703703704"
      ]
     },
     "execution_count": 21,
     "metadata": {},
     "output_type": "execute_result"
    }
   ],
   "source": [
    "pipe_lr = Pipeline(steps=[('cv',CountVectorizer()),('lr',LogisticRegression(max_iter=1000))])\n",
    "pipe_lr.fit(x_train,y_train)\n",
    "pipe_lr.score(x_test,y_test)"
   ]
  },
  {
   "cell_type": "code",
   "execution_count": 22,
   "id": "35d76a42",
   "metadata": {},
   "outputs": [
    {
     "data": {
      "text/plain": [
       "0.8485185185185186"
      ]
     },
     "execution_count": 22,
     "metadata": {},
     "output_type": "execute_result"
    }
   ],
   "source": [
    "pipe_svm = Pipeline(steps=[('cv',CountVectorizer()),('svc',SVC(kernel = 'rbf',C = 10))])\n",
    "pipe_svm.fit(x_train,y_train)\n",
    "pipe_svm.score(x_test,y_test)"
   ]
  },
  {
   "cell_type": "code",
   "execution_count": 23,
   "id": "04cbe726",
   "metadata": {},
   "outputs": [
    {
     "data": {
      "text/plain": [
       "0.8698148148148148"
      ]
     },
     "execution_count": 23,
     "metadata": {},
     "output_type": "execute_result"
    }
   ],
   "source": [
    "pipe_rf = Pipeline(steps=[('cv',CountVectorizer()),('rf',RandomForestClassifier(n_estimators=10))])\n",
    "pipe_rf.fit(x_train,y_train)\n",
    "pipe_rf.score(x_test,y_test)"
   ]
  },
  {
   "cell_type": "markdown",
   "id": "3479e74f",
   "metadata": {},
   "source": [
    "### Saving the Model"
   ]
  },
  {
   "cell_type": "code",
   "execution_count": 24,
   "id": "64186514",
   "metadata": {},
   "outputs": [],
   "source": [
    "import joblib\n",
    "pipeline_file = open(\"text_emotion.pkl\",\"wb\")\n",
    "joblib.dump(pipe_lr,pipeline_file)\n",
    "pipeline_file.close()"
   ]
  },
  {
   "cell_type": "markdown",
   "id": "934b384c",
   "metadata": {},
   "source": [
    "# Sentiment Analysis Logic"
   ]
  },
  {
   "cell_type": "code",
   "execution_count": 78,
   "id": "4b96af68",
   "metadata": {},
   "outputs": [],
   "source": [
    "import pandas as pd\n",
    "import numpy as np\n",
    "from textblob import TextBlob\n",
    "from sklearn.model_selection import train_test_split\n",
    "from sklearn.feature_extraction.text import TfidfVectorizer\n",
    "from sklearn.preprocessing import FunctionTransformer\n",
    "from sklearn.compose import ColumnTransformer\n",
    "from sklearn.pipeline import Pipeline\n",
    "from sklearn.linear_model import LogisticRegression\n",
    "from sklearn.metrics import classification_report, accuracy_score\n",
    "import random\n"
   ]
  },
  {
   "cell_type": "code",
   "execution_count": 79,
   "id": "7a419adc",
   "metadata": {},
   "outputs": [],
   "source": [
    "# Load dataset\n",
    "df = pd.read_csv(\"Reviews.csv\", usecols=[\"Score\", \"Text\"])\n",
    "df.dropna(subset=[\"Score\", \"Text\"], inplace=True)\n",
    "df['Text'] = df['Text'].astype(str).str.strip()\n",
    "df = df[df['Text'] != \"\"]\n",
    "\n"
   ]
  },
  {
   "cell_type": "code",
   "execution_count": 80,
   "id": "0292cbe4",
   "metadata": {},
   "outputs": [
    {
     "name": "stdout",
     "output_type": "stream",
     "text": [
      "Sentiment\n",
      "positive    443777\n",
      "negative     82037\n",
      "neutral      42640\n",
      "Name: count, dtype: int64\n"
     ]
    }
   ],
   "source": [
    "# Map Score to Sentiment\n",
    "def score_to_sentiment(score):\n",
    "    if score <= 2:\n",
    "        return \"negative\"\n",
    "    elif score == 3:\n",
    "        return \"neutral\"\n",
    "    else:\n",
    "        return \"positive\"\n",
    "\n",
    "df['Sentiment'] = df['Score'].apply(score_to_sentiment)\n",
    "print(df['Sentiment'].value_counts())\n"
   ]
  },
  {
   "cell_type": "code",
   "execution_count": 81,
   "id": "cc0790a8",
   "metadata": {},
   "outputs": [
    {
     "name": "stderr",
     "output_type": "stream",
     "text": [
      "C:\\Users\\modim\\AppData\\Local\\Temp\\ipykernel_177192\\3283923897.py:2: DeprecationWarning: DataFrameGroupBy.apply operated on the grouping columns. This behavior is deprecated, and in a future version of pandas the grouping columns will be excluded from the operation. Either pass `include_groups=False` to exclude the groupings or explicitly select the grouping columns after groupby to silence this warning.\n",
      "  df = df.groupby('Sentiment').apply(lambda x: x.sample(n=1000, random_state=42)).reset_index(drop=True)\n"
     ]
    }
   ],
   "source": [
    "# Balance dataset: 1000 samples per sentiment class\n",
    "df = df.groupby('Sentiment').apply(lambda x: x.sample(n=1000, random_state=42)).reset_index(drop=True)"
   ]
  },
  {
   "cell_type": "code",
   "execution_count": 98,
   "id": "67cbb3a0",
   "metadata": {},
   "outputs": [],
   "source": [
    "# Sample texts\n",
    "positive_texts = [\n",
    "    \"Absolutely loved it!\", \"Best purchase ever!\", \"Highly recommend this!\", \"Five stars!\",\n",
    "    \"Amazing experience!\", \"Very satisfied with the quality.\", \"Superb!\", \"Top-notch service.\",\n",
    "    \"This made my day!\", \"Impressed by the performance.\", \"Everything was perfect.\",\n",
    "    \"Exceeded my expectations.\", \"I really enjoyed it.\", \"Fantastic!\", \"Delightful product.\",\n",
    "    \"Great service!\", \"Worth every penny!\", \"This is incredible!\", \"Very happy with it.\",\n",
    "    \"100% satisfied.\", \"Can't stop using it!\", \"So good!\", \"Awesome stuff!\",\n",
    "    \"I loved how it worked!\", \"My friends also liked it.\", \"This is the best so far.\",\n",
    "    \"Perfect choice!\", \"Definitely recommend it!\", \"It worked flawlessly!\",\n",
    "    \"I watched a movie with my friends, I will do it\"  # required sample\n",
    "]\n",
    "\n",
    "neutral_texts = [\n",
    "    \"It's average.\", \"Nothing special.\", \"Just okay.\", \"Not bad, not great.\",\n",
    "    \"Neutral opinion.\", \"It was fine.\", \"Undecided on this.\", \"Neither good nor bad.\",\n",
    "    \"Can't say much.\", \"Standard product.\", \"Mediocre performance.\", \"As expected.\",\n",
    "    \"Does the job.\", \"Fine for the price.\", \"So-so.\", \"Could be better.\",\n",
    "    \"Could be worse.\", \"Expected more, but okay.\", \"Unimpressed but usable.\",\n",
    "    \"It works.\", \"Functional, not exciting.\", \"Not thrilled, not angry.\",\n",
    "    \"I'm indifferent.\", \"Decent quality.\", \"Mildly interesting.\",\n",
    "    \"It's functional.\", \"Not much to say.\", \"Average experience.\",\n",
    "    \"Wasn't surprised.\", \"No strong feelings.\",\"It is average\",\n",
    "    \"Nothing special about it\",\n",
    "    \"Just okay overall\",\n",
    "    \"Not bad and not great\",\n",
    "    \"Neutral opinion overall\",\n",
    "    \"It was fine and simple\",\n",
    "    \"Undecided about this item\",\n",
    "    \"Neither good nor bad overall\",\n",
    "    \"Cannot say much about it\",\n",
    "    \"Standard type of product\",\n",
    "    \"Performance was mediocre\",\n",
    "    \"As expected from this\",\n",
    "    \"Does the job well enough\",\n",
    "    \"Fine for the listed price\",\n",
    "    \"So so experience\",\n",
    "    \"Could be slightly better\",\n",
    "    \"Could be slightly worse\",\n",
    "    \"Expected more but still okay\",\n",
    "    \"Unimpressed but usable\",\n",
    "    \"It works as needed\",\n",
    "    \"Functional but not exciting\",\n",
    "    \"Not thrilled and not angry\",\n",
    "    \"I am indifferent toward it\",\n",
    "    \"Decent quality overall\",\n",
    "    \"Mildly interesting product\",\n",
    "    \"It is functional and plain\",\n",
    "    \"Not much to mention\",\n",
    "    \"Experience was average\",\n",
    "    \"Was not surprised at all\",\n",
    "    \"No strong opinions on this\",\n",
    "    \"Performs as advertised\",\n",
    "    \"Service was acceptable\",\n",
    "    \"An ordinary experience\",\n",
    "    \"Pretty standard and normal\",\n",
    "    \"Suits the basic purpose\",\n",
    "    \"No particular highlights\",\n",
    "    \"Satisfactory and fine\",\n",
    "    \"Gets the job done easily\",\n",
    "    \"A plain and basic item\",\n",
    "    \"Nothing remarkable about it\",\n",
    "    \"It is just okay\",\n",
    "    \"Simple but works\",\n",
    "    \"Fine but not special\",\n",
    "    \"Meets basic expectations\",\n",
    "    \"No excitement and no issues\",\n",
    "    \"Meets the general standard\",\n",
    "    \"A routine experience overall\",\n",
    "    \"Worked as stated by seller\",\n",
    "    \"Meh it is fine\",\n",
    "    \"Not impressive not bad\",\n",
    "    \"Everything worked nothing more\",\n",
    "    \"Neutral result in use\",\n",
    "    \"Functioned normally all along\",\n",
    "    \"Satisfied enough for now\",\n",
    "    \"Basic but usable product\",\n",
    "    \"Meets acceptable standards\",\n",
    "    \"Plain and usable design\",\n",
    "    \"Neither happy nor sad about it\",\n",
    "    \"It is a typical item\",\n",
    "    \"Not memorable or unique\",\"It is fine and usable\",\n",
    "    \"Satisfactory but not exceptional\",\n",
    "    \"Quality is within expectations\",\n",
    "    \"Meets minimum standards\",\n",
    "    \"Overall a plain item\",\n",
    "    \"Service was handled normally\",\n",
    "    \"The result was acceptable\",\n",
    "    \"Works as it should\",\n",
    "    \"Matches the basic description\",\n",
    "    \"An unremarkable experience\",\n",
    "    \"Nothing negative to say\",\n",
    "    \"It is a usable item\",\n",
    "    \"Fulfills the stated purpose\",\n",
    "    \"Works without issues\",\n",
    "    \"Fine for daily use\",\n",
    "    \"Reasonably standard performance\",\n",
    "    \"No strong response to this\",\n",
    "    \"A very basic product\",\n",
    "    \"Did what was required\",\n",
    "    \"Performance is steady\",\n",
    "    \"Meets all basic needs\",\n",
    "    \"A typical response\",\n",
    "    \"Acceptable overall result\",\n",
    "    \"Operates as mentioned\",\n",
    "    \"Feels like any other product\",\n",
    "    \"Usage was smooth enough\",\n",
    "    \"Nothing stood out here\",\n",
    "    \"Basic features were present\",\n",
    "    \"No issues or highlights\",\n",
    "    \"All worked fine for me\",\n",
    "    \"Handling was regular\",\n",
    "    \"Packaging was normal\",\n",
    "    \"Neutral in all aspects\",\n",
    "    \"Just a normal product\",\n",
    "    \"Nothing exciting or bad\",\n",
    "    \"Basic user experience\",\n",
    "    \"Delivered what was promised\",\n",
    "    \"No emotions attached\",\n",
    "    \"Usage felt routine\",\n",
    "    \"Looks and works as described\",\n",
    "    \"No visible problems\",\n",
    "    \"No extra value or loss\",\n",
    "    \"Just serves the purpose\",\n",
    "    \"Works like other similar items\",\n",
    "    \"Matches other basic items\",\n",
    "    \"Outcome was plain\",\n",
    "    \"Just enough for the need\",\n",
    "    \"It is not complex\",\n",
    "    \"Met the need adequately\",\n",
    "    \"Standard performance all around\",\n",
    "    \"No major flaws observed\",\n",
    "    \"A quiet experience overall\",\n",
    "    \"Neutral impression remains\",\n",
    "    \"Did what I hoped\",\n",
    "    \"Experience had no surprises\",\n",
    "    \"Nothing major to mention\",\n",
    "    \"Not lacking, not excelling\",\n",
    "    \"Serves the job\",\n",
    "    \"Nothing different here\",\n",
    "    \"Basic and reliable enough\"\n",
    "]\n",
    "\n",
    "negative_texts = [\n",
    "    \"Very disappointing.\", \"Won't buy again.\", \"Terrible quality.\", \"Waste of money.\",\n",
    "    \"Completely useless.\", \"It broke in a day.\", \"Didn't meet expectations.\", \"Really poor.\",\n",
    "    \"Worst experience.\", \"Not worth the money.\", \"Regret buying it.\", \"Pathetic service.\",\n",
    "    \"Fails to deliver.\", \"Don't waste your time.\", \"Very bad.\", \"Unreliable product.\",\n",
    "    \"Stopped working quickly.\", \"Terrible support.\", \"Low-quality build.\",\n",
    "    \"Annoying to use.\", \"Awful experience.\", \"Buggy and slow.\", \"No value at all.\",\n",
    "    \"Didn't like it.\", \"Wouldn’t recommend.\", \"Cheap material.\",\n",
    "    \"Defective out of the box.\", \"Extremely bad experience.\",\n",
    "    \"Faulty and broken.\", \"Never again!\"\n",
    "]\n"
   ]
  },
  {
   "cell_type": "code",
   "execution_count": 99,
   "id": "f322053a",
   "metadata": {},
   "outputs": [],
   "source": [
    "# Generate DataFrames\n",
    "def generate_samples(texts, score, count=30):\n",
    "    sampled_texts = random.sample(texts, count)\n",
    "    return pd.DataFrame({'Text': sampled_texts, 'Score': [score] * count})\n",
    "\n",
    "samples_pos = generate_samples(positive_texts, 5)\n",
    "samples_neu = generate_samples(neutral_texts, 3)\n",
    "samples_neg = generate_samples(negative_texts, 1)\n",
    "\n",
    "# Combine all new samples\n",
    "new_samples = pd.concat([samples_pos, samples_neu, samples_neg], ignore_index=True)\n",
    "\n",
    "# Label and compute sentiment values\n",
    "new_samples['Sentiment'] = new_samples['Score'].apply(score_to_sentiment)\n",
    "new_samples['Polarity'] = new_samples['Text'].apply(lambda x: TextBlob(x).sentiment.polarity)\n",
    "new_samples['Subjectivity'] = new_samples['Text'].apply(lambda x: TextBlob(x).sentiment.subjectivity)\n"
   ]
  },
  {
   "cell_type": "code",
   "execution_count": 100,
   "id": "567e8e01",
   "metadata": {},
   "outputs": [],
   "source": [
    "# Append to df\n",
    "df = pd.concat([df, new_samples], ignore_index=True)\n",
    "\n",
    "# If needed, recompute polarity/subjectivity for original rows\n",
    "df['Polarity'] = df['Text'].apply(lambda x: TextBlob(x).sentiment.polarity)\n",
    "df['Subjectivity'] = df['Text'].apply(lambda x: TextBlob(x).sentiment.subjectivity)\n"
   ]
  },
  {
   "cell_type": "code",
   "execution_count": 101,
   "id": "4024ef9b",
   "metadata": {},
   "outputs": [],
   "source": [
    "X = df[['Text', 'Polarity', 'Subjectivity']]\n",
    "y = df['Sentiment']\n",
    "\n",
    "X_train, X_test, y_train, y_test = train_test_split(\n",
    "    X, y, test_size=0.2, stratify=y, random_state=42\n",
    ")\n"
   ]
  },
  {
   "cell_type": "code",
   "execution_count": 102,
   "id": "ed53ac13",
   "metadata": {},
   "outputs": [],
   "source": [
    "def reshape_column(x):\n",
    "    return x.values.reshape(-1, 1)\n",
    "\n",
    "preprocessor = ColumnTransformer(transformers=[\n",
    "    ('tfidf', TfidfVectorizer(max_features=8000, ngram_range=(1, 2), min_df=3, max_df=0.95), 'Text'),\n",
    "    ('polarity', FunctionTransformer(reshape_column), 'Polarity'),\n",
    "    ('subjectivity', FunctionTransformer(reshape_column), 'Subjectivity')\n",
    "])\n",
    "\n",
    "pipe = Pipeline([\n",
    "    ('features', preprocessor),\n",
    "    ('clf', LogisticRegression(solver='saga', max_iter=1000, class_weight='balanced'))\n",
    "])\n"
   ]
  },
  {
   "cell_type": "code",
   "execution_count": 103,
   "id": "6e8600c3",
   "metadata": {},
   "outputs": [
    {
     "name": "stdout",
     "output_type": "stream",
     "text": [
      "✅ Accuracy: 0.6788990825688074\n",
      "\n",
      "📋 Classification Report:\n",
      "               precision    recall  f1-score   support\n",
      "\n",
      "    negative       0.69      0.63      0.66       218\n",
      "     neutral       0.61      0.65      0.63       218\n",
      "    positive       0.74      0.76      0.75       218\n",
      "\n",
      "    accuracy                           0.68       654\n",
      "   macro avg       0.68      0.68      0.68       654\n",
      "weighted avg       0.68      0.68      0.68       654\n",
      "\n"
     ]
    }
   ],
   "source": [
    "pipe.fit(X_train, y_train)\n",
    "y_pred = pipe.predict(X_test)\n",
    "\n",
    "print(\"✅ Accuracy:\", accuracy_score(y_test, y_pred))\n",
    "print(\"\\n📋 Classification Report:\\n\", classification_report(y_test, y_pred))\n"
   ]
  },
  {
   "cell_type": "code",
   "execution_count": 104,
   "id": "74808564",
   "metadata": {},
   "outputs": [
    {
     "name": "stdout",
     "output_type": "stream",
     "text": [
      "💾 Model saved as reviews_sentiment_with_swifter_textblob.pkl\n"
     ]
    }
   ],
   "source": [
    "# Step 12: Save the model\n",
    "joblib.dump(pipe, \"reviews_sentiment_with_textblob.pkl\")\n",
    "\n",
    "print(\"💾 Model saved as reviews_sentiment_with_swifter_textblob.pkl\")\n"
   ]
  },
  {
   "cell_type": "code",
   "execution_count": 105,
   "id": "50339b96",
   "metadata": {},
   "outputs": [
    {
     "data": {
      "image/png": "[encoded data removed]",
      "text/plain": [
       "<Figure size 640x480 with 2 Axes>"
      ]
     },
     "metadata": {},
     "output_type": "display_data"
    }
   ],
   "source": [
    "from sklearn.metrics import confusion_matrix, ConfusionMatrixDisplay\n",
    "import matplotlib.pyplot as plt\n",
    "\n",
    "\n",
    "# Use your final trained model pipe and variables y_test, y_pred\n",
    "cm = confusion_matrix(y_test, y_pred, labels=pipe.classes_)\n",
    "disp = ConfusionMatrixDisplay(confusion_matrix=cm, display_labels=pipe.classes_)\n",
    "\n",
    "# Plotting\n",
    "disp.plot(cmap=plt.cm.Blues)\n",
    "plt.title(\"Confusion Matrix - Sentiment Model (TF-IDF + TextBlob)\")\n",
    "plt.grid(False)\n",
    "plt.show()"
   ]
  },
  {
   "cell_type": "code",
   "execution_count": null,
   "id": "45265335",
   "metadata": {},
   "outputs": [],
   "source": []
  },
  {
   "cell_type": "code",
   "execution_count": null,
   "id": "236114d3",
   "metadata": {},
   "outputs": [],
   "source": []
  }
 ],
 "metadata": {
  "kernelspec": {
   "display_name": "Python 3",
   "language": "python",
   "name": "python3"
  },
  "language_info": {
   "codemirror_mode": {
    "name": "ipython",
    "version": 3
   },
   "file_extension": ".py",
   "mimetype": "text/x-python",
   "name": "python",
   "nbconvert_exporter": "python",
   "pygments_lexer": "ipython3",
   "version": "3.12.3"
  }
 },
 "nbformat": 4,
 "nbformat_minor": 5
}
